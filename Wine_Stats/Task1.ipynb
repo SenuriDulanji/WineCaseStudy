{
 "cells": [
  {
   "cell_type": "code",
   "execution_count": 28,
   "id": "d7feb3a4-d925-4de8-8858-a203ca8668a5",
   "metadata": {},
   "outputs": [
    {
     "data": {
      "text/html": [
       "<div>\n",
       "<style scoped>\n",
       "    .dataframe tbody tr th:only-of-type {\n",
       "        vertical-align: middle;\n",
       "    }\n",
       "\n",
       "    .dataframe tbody tr th {\n",
       "        vertical-align: top;\n",
       "    }\n",
       "\n",
       "    .dataframe thead th {\n",
       "        text-align: right;\n",
       "    }\n",
       "</style>\n",
       "<table border=\"1\" class=\"dataframe\">\n",
       "  <thead>\n",
       "    <tr style=\"text-align: right;\">\n",
       "      <th></th>\n",
       "      <th>Unnamed: 0</th>\n",
       "      <th>Name</th>\n",
       "      <th>Rating</th>\n",
       "      <th>Number of Ratings</th>\n",
       "      <th>Price</th>\n",
       "      <th>Region</th>\n",
       "      <th>Winery</th>\n",
       "      <th>Wine style</th>\n",
       "      <th>Alcohol content</th>\n",
       "      <th>Grapes</th>\n",
       "      <th>Food pairings</th>\n",
       "      <th>Bold</th>\n",
       "      <th>Tannin</th>\n",
       "      <th>Sweet</th>\n",
       "      <th>Acidic</th>\n",
       "    </tr>\n",
       "  </thead>\n",
       "  <tbody>\n",
       "    <tr>\n",
       "      <th>0</th>\n",
       "      <td>0</td>\n",
       "      <td>Fields Of Joy Shiraz 2014</td>\n",
       "      <td>4.0</td>\n",
       "      <td>203</td>\n",
       "      <td>28.99</td>\n",
       "      <td>Australia / South Australia / Mount Lofty Rang...</td>\n",
       "      <td>Two Hands</td>\n",
       "      <td>Australian Shiraz</td>\n",
       "      <td>13.794543</td>\n",
       "      <td>NaN</td>\n",
       "      <td>['Beef', 'Lamb', 'Game (deer, venison)', 'Poul...</td>\n",
       "      <td>85.00</td>\n",
       "      <td>47.13000</td>\n",
       "      <td>20.62</td>\n",
       "      <td>43.570</td>\n",
       "    </tr>\n",
       "    <tr>\n",
       "      <th>1</th>\n",
       "      <td>1</td>\n",
       "      <td>Shotfire GSM 2018</td>\n",
       "      <td>3.9</td>\n",
       "      <td>36</td>\n",
       "      <td>19.49</td>\n",
       "      <td>Australia / South Australia / Barossa</td>\n",
       "      <td>Thorn-Clarke</td>\n",
       "      <td>Australian Rhône Blend Red</td>\n",
       "      <td>14.500000</td>\n",
       "      <td>Mourvedre, Shiraz/Syrah, Grenache</td>\n",
       "      <td>['Beef', 'Pasta', 'Lamb', 'Game (deer, venison)']</td>\n",
       "      <td>85.00</td>\n",
       "      <td>50.63000</td>\n",
       "      <td>9.05</td>\n",
       "      <td>43.000</td>\n",
       "    </tr>\n",
       "    <tr>\n",
       "      <th>2</th>\n",
       "      <td>2</td>\n",
       "      <td>Passion has Red Lips 2020</td>\n",
       "      <td>3.8</td>\n",
       "      <td>350</td>\n",
       "      <td>27.50</td>\n",
       "      <td>Australia / South Australia / Fleurieu / McLar...</td>\n",
       "      <td>Some Young Punks</td>\n",
       "      <td>Australian Cabernet - Shiraz</td>\n",
       "      <td>13.794543</td>\n",
       "      <td>NaN</td>\n",
       "      <td>['Beef', 'Lamb', 'Poultry']</td>\n",
       "      <td>85.00</td>\n",
       "      <td>49.37000</td>\n",
       "      <td>8.19</td>\n",
       "      <td>44.780</td>\n",
       "    </tr>\n",
       "    <tr>\n",
       "      <th>3</th>\n",
       "      <td>3</td>\n",
       "      <td>The Hermit Crab Viognier - Marsanne 2018</td>\n",
       "      <td>3.8</td>\n",
       "      <td>1026</td>\n",
       "      <td>16.99</td>\n",
       "      <td>Australia / South Australia / Fleurieu / McLar...</td>\n",
       "      <td>d'Arenberg</td>\n",
       "      <td>NaN</td>\n",
       "      <td>13.794543</td>\n",
       "      <td>NaN</td>\n",
       "      <td>[]</td>\n",
       "      <td>61.73</td>\n",
       "      <td>46.29527</td>\n",
       "      <td>9.05</td>\n",
       "      <td>53.555</td>\n",
       "    </tr>\n",
       "    <tr>\n",
       "      <th>4</th>\n",
       "      <td>4</td>\n",
       "      <td>Cabernet Sauvignon (Batch No. 1 &amp; 3) 2019</td>\n",
       "      <td>3.8</td>\n",
       "      <td>969</td>\n",
       "      <td>14.99</td>\n",
       "      <td>Australia / South Eastern Australia</td>\n",
       "      <td>Gentleman's Collection</td>\n",
       "      <td>Australian Cabernet Sauvignon</td>\n",
       "      <td>13.794543</td>\n",
       "      <td>NaN</td>\n",
       "      <td>['Beef', 'Lamb', 'Poultry']</td>\n",
       "      <td>76.34</td>\n",
       "      <td>49.36000</td>\n",
       "      <td>16.02</td>\n",
       "      <td>47.890</td>\n",
       "    </tr>\n",
       "  </tbody>\n",
       "</table>\n",
       "</div>"
      ],
      "text/plain": [
       "   Unnamed: 0                                       Name  Rating  \\\n",
       "0           0                  Fields Of Joy Shiraz 2014     4.0   \n",
       "1           1                          Shotfire GSM 2018     3.9   \n",
       "2           2                  Passion has Red Lips 2020     3.8   \n",
       "3           3   The Hermit Crab Viognier - Marsanne 2018     3.8   \n",
       "4           4  Cabernet Sauvignon (Batch No. 1 & 3) 2019     3.8   \n",
       "\n",
       "   Number of Ratings  Price  \\\n",
       "0                203  28.99   \n",
       "1                 36  19.49   \n",
       "2                350  27.50   \n",
       "3               1026  16.99   \n",
       "4                969  14.99   \n",
       "\n",
       "                                              Region                  Winery  \\\n",
       "0  Australia / South Australia / Mount Lofty Rang...               Two Hands   \n",
       "1              Australia / South Australia / Barossa            Thorn-Clarke   \n",
       "2  Australia / South Australia / Fleurieu / McLar...        Some Young Punks   \n",
       "3  Australia / South Australia / Fleurieu / McLar...              d'Arenberg   \n",
       "4                Australia / South Eastern Australia  Gentleman's Collection   \n",
       "\n",
       "                      Wine style  Alcohol content  \\\n",
       "0              Australian Shiraz        13.794543   \n",
       "1     Australian Rhône Blend Red        14.500000   \n",
       "2   Australian Cabernet - Shiraz        13.794543   \n",
       "3                            NaN        13.794543   \n",
       "4  Australian Cabernet Sauvignon        13.794543   \n",
       "\n",
       "                              Grapes  \\\n",
       "0                                NaN   \n",
       "1  Mourvedre, Shiraz/Syrah, Grenache   \n",
       "2                                NaN   \n",
       "3                                NaN   \n",
       "4                                NaN   \n",
       "\n",
       "                                       Food pairings   Bold    Tannin  Sweet  \\\n",
       "0  ['Beef', 'Lamb', 'Game (deer, venison)', 'Poul...  85.00  47.13000  20.62   \n",
       "1  ['Beef', 'Pasta', 'Lamb', 'Game (deer, venison)']  85.00  50.63000   9.05   \n",
       "2                        ['Beef', 'Lamb', 'Poultry']  85.00  49.37000   8.19   \n",
       "3                                                 []  61.73  46.29527   9.05   \n",
       "4                        ['Beef', 'Lamb', 'Poultry']  76.34  49.36000  16.02   \n",
       "\n",
       "   Acidic  \n",
       "0  43.570  \n",
       "1  43.000  \n",
       "2  44.780  \n",
       "3  53.555  \n",
       "4  47.890  "
      ]
     },
     "execution_count": 28,
     "metadata": {},
     "output_type": "execute_result"
    }
   ],
   "source": [
    "import pandas as pd\n",
    "import glob\n",
    "import matplotlib.pyplot as plt\n",
    "\n",
    "csv_files=glob.glob(r\".\\WineDataFiles\\*.csv\")\n",
    "dataframes=[pd.read_csv(file) for file in csv_files]\n",
    "\n",
    "wine_df=pd.concat(dataframes,ignore_index=True)\n",
    "pd.set_option(\"display.max_columns\", None)\n",
    "\n",
    "wine_df.head()"
   ]
  },
  {
   "cell_type": "code",
   "execution_count": 29,
   "id": "cb0ed8fe-a55b-4b57-a66b-8b66b22a0cb9",
   "metadata": {},
   "outputs": [
    {
     "data": {
      "text/plain": [
       "Index(['Unnamed: 0', 'Name', 'Rating', 'Number of Ratings', 'Price', 'Region',\n",
       "       'Winery', 'Wine style', 'Alcohol content', 'Grapes', 'Food pairings',\n",
       "       'Bold', 'Tannin', 'Sweet', 'Acidic'],\n",
       "      dtype='object')"
      ]
     },
     "execution_count": 29,
     "metadata": {},
     "output_type": "execute_result"
    }
   ],
   "source": [
    "wine_df.columns"
   ]
  },
  {
   "cell_type": "code",
   "execution_count": 30,
   "id": "868b553f-14e2-4b8b-99dc-8505bcfc4ecf",
   "metadata": {},
   "outputs": [
    {
     "data": {
      "text/plain": [
       "(5145, 15)"
      ]
     },
     "execution_count": 30,
     "metadata": {},
     "output_type": "execute_result"
    }
   ],
   "source": [
    "wine_df.shape"
   ]
  },
  {
   "cell_type": "code",
   "execution_count": 31,
   "id": "a7459720-5b87-42ad-a20a-9b903c797296",
   "metadata": {},
   "outputs": [
    {
     "data": {
      "text/plain": [
       "Unnamed: 0             int64\n",
       "Name                  object\n",
       "Rating               float64\n",
       "Number of Ratings      int64\n",
       "Price                float64\n",
       "Region                object\n",
       "Winery                object\n",
       "Wine style            object\n",
       "Alcohol content      float64\n",
       "Grapes                object\n",
       "Food pairings         object\n",
       "Bold                 float64\n",
       "Tannin               float64\n",
       "Sweet                float64\n",
       "Acidic               float64\n",
       "dtype: object"
      ]
     },
     "execution_count": 31,
     "metadata": {},
     "output_type": "execute_result"
    }
   ],
   "source": [
    "wine_df.dtypes"
   ]
  },
  {
   "cell_type": "code",
   "execution_count": 32,
   "id": "dd6b98dc-9c02-43b1-8e58-00bad3ad7322",
   "metadata": {},
   "outputs": [
    {
     "data": {
      "text/plain": [
       "<bound method NDFrame.describe of       Unnamed: 0                                               Name  Rating  \\\n",
       "0              0                          Fields Of Joy Shiraz 2014     4.0   \n",
       "1              1                                  Shotfire GSM 2018     3.9   \n",
       "2              2                          Passion has Red Lips 2020     3.8   \n",
       "3              3           The Hermit Crab Viognier - Marsanne 2018     3.8   \n",
       "4              4          Cabernet Sauvignon (Batch No. 1 & 3) 2019     3.8   \n",
       "...          ...                                                ...     ...   \n",
       "5140         667  Katherine Goldschmidt Stonemason Hill Cabernet...     4.1   \n",
       "5141         668                           Pessimist Red Blend 2020     4.0   \n",
       "5142         669                            Cabernet Sauvignon 2013     3.8   \n",
       "5143         670                                  Petit Verdot 2017     4.2   \n",
       "5144         671                          Freakshow Chardonnay 2020     3.8   \n",
       "\n",
       "      Number of Ratings  Price  \\\n",
       "0                   203  28.99   \n",
       "1                    36  19.49   \n",
       "2                   350  27.50   \n",
       "3                  1026  16.99   \n",
       "4                   969  14.99   \n",
       "...                 ...    ...   \n",
       "5140                 80  25.99   \n",
       "5141                574  17.99   \n",
       "5142               4612  34.99   \n",
       "5143                 53  34.99   \n",
       "5144                160  17.99   \n",
       "\n",
       "                                                 Region  \\\n",
       "0     Australia / South Australia / Mount Lofty Rang...   \n",
       "1                 Australia / South Australia / Barossa   \n",
       "2     Australia / South Australia / Fleurieu / McLar...   \n",
       "3     Australia / South Australia / Fleurieu / McLar...   \n",
       "4                   Australia / South Eastern Australia   \n",
       "...                                                 ...   \n",
       "5140  United States / California / North Coast / Son...   \n",
       "5141  United States / California / Central Coast / S...   \n",
       "5142  United States / California / Central Coast / S...   \n",
       "5143  United States / California / Central Coast / S...   \n",
       "5144  United States / California / Central Valley / ...   \n",
       "\n",
       "                      Winery                      Wine style  Alcohol content  \\\n",
       "0                  Two Hands               Australian Shiraz        13.794543   \n",
       "1               Thorn-Clarke      Australian Rhône Blend Red        14.500000   \n",
       "2           Some Young Punks    Australian Cabernet - Shiraz        13.794543   \n",
       "3                 d'Arenberg                             NaN        13.794543   \n",
       "4     Gentleman's Collection   Australian Cabernet Sauvignon        13.794543   \n",
       "...                      ...                             ...              ...   \n",
       "5140   Goldschmidt Vineyards  Californian Cabernet Sauvignon        13.794543   \n",
       "5141                    DAOU           Californian Red Blend        15.200000   \n",
       "5142          Liberty School  Californian Cabernet Sauvignon        13.500000   \n",
       "5143                  Opaque                             NaN        13.794543   \n",
       "5144    Michael David Winery          Californian Chardonnay        13.500000   \n",
       "\n",
       "                                 Grapes  \\\n",
       "0                                   NaN   \n",
       "1     Mourvedre, Shiraz/Syrah, Grenache   \n",
       "2                                   NaN   \n",
       "3                                   NaN   \n",
       "4                                   NaN   \n",
       "...                                 ...   \n",
       "5140                                NaN   \n",
       "5141                          100 Durif   \n",
       "5142             100 Cabernet Sauvignon   \n",
       "5143                                NaN   \n",
       "5144                     100 Chardonnay   \n",
       "\n",
       "                                          Food pairings   Bold    Tannin  \\\n",
       "0     ['Beef', 'Lamb', 'Game (deer, venison)', 'Poul...  85.00  47.13000   \n",
       "1     ['Beef', 'Pasta', 'Lamb', 'Game (deer, venison)']  85.00  50.63000   \n",
       "2                           ['Beef', 'Lamb', 'Poultry']  85.00  49.37000   \n",
       "3                                                    []  61.73  46.29527   \n",
       "4                           ['Beef', 'Lamb', 'Poultry']  76.34  49.36000   \n",
       "...                                                 ...    ...       ...   \n",
       "5140  ['Beef', 'Lamb', 'Game (deer, venison)', 'Poul...  82.71  48.87000   \n",
       "5141                ['Beef', 'Lamb', 'Veal', 'Poultry']  85.00  53.43000   \n",
       "5142  ['Beef', 'Lamb', 'Game (deer, venison)', 'Poul...  85.00  49.14000   \n",
       "5143                                                 []  61.73  46.29527   \n",
       "5144  ['Pork', 'Rich fish (salmon, tuna etc)', 'Vege...  77.65  46.29527   \n",
       "\n",
       "      Sweet  Acidic  \n",
       "0     20.62  43.570  \n",
       "1      9.05  43.000  \n",
       "2      8.19  44.780  \n",
       "3      9.05  53.555  \n",
       "4     16.02  47.890  \n",
       "...     ...     ...  \n",
       "5140   7.37  43.770  \n",
       "5141  15.96  61.840  \n",
       "5142   9.63  42.020  \n",
       "5143   9.05  53.555  \n",
       "5144  33.83  47.480  \n",
       "\n",
       "[5145 rows x 15 columns]>"
      ]
     },
     "execution_count": 32,
     "metadata": {},
     "output_type": "execute_result"
    }
   ],
   "source": [
    "wine_df.describe"
   ]
  },
  {
   "cell_type": "code",
   "execution_count": 33,
   "id": "1e021bf3-7276-4494-8b34-41fc7526bfe6",
   "metadata": {},
   "outputs": [],
   "source": [
    "wine_df=wine_df.drop([\"Unnamed: 0\"],axis=1) #remove the most unneccassry column"
   ]
  },
  {
   "cell_type": "code",
   "execution_count": 34,
   "id": "38ed3c71-56a6-4b04-a47f-064a115aecfa",
   "metadata": {},
   "outputs": [
    {
     "name": "stdout",
     "output_type": "stream",
     "text": [
      "dupilcates in the data_frame:80\n"
     ]
    }
   ],
   "source": [
    "print(f\"dupilcates in the data_frame:{wine_df.duplicated().sum()}\") #there are 80 duplicates and we will remove them first"
   ]
  },
  {
   "cell_type": "code",
   "execution_count": 35,
   "id": "39825630-0a6a-4bde-a84b-b2df299eb948",
   "metadata": {},
   "outputs": [],
   "source": [
    "wine_df=wine_df.drop_duplicates()"
   ]
  },
  {
   "cell_type": "code",
   "execution_count": 36,
   "id": "7dea2848-c7a3-449a-acd0-66b882c3130b",
   "metadata": {},
   "outputs": [
    {
     "data": {
      "text/plain": [
       "(5065, 14)"
      ]
     },
     "execution_count": 36,
     "metadata": {},
     "output_type": "execute_result"
    }
   ],
   "source": [
    "wine_df.shape"
   ]
  },
  {
   "cell_type": "code",
   "execution_count": 37,
   "id": "52ff17b9-1eb5-4093-930b-333777eea6b5",
   "metadata": {},
   "outputs": [
    {
     "name": "stdout",
     "output_type": "stream",
     "text": [
      "null vales:Name                    0\n",
      "Rating                  0\n",
      "Number of Ratings       0\n",
      "Price                   0\n",
      "Region                  0\n",
      "Winery                  3\n",
      "Wine style            513\n",
      "Alcohol content         0\n",
      "Grapes               2138\n",
      "Food pairings           0\n",
      "Bold                    0\n",
      "Tannin                  0\n",
      "Sweet                   0\n",
      "Acidic                  0\n",
      "dtype: int64\n"
     ]
    }
   ],
   "source": [
    "print(f'null vales:{wine_df.isnull().sum()}')"
   ]
  },
  {
   "cell_type": "code",
   "execution_count": 38,
   "id": "d7bd009c",
   "metadata": {},
   "outputs": [
    {
     "data": {
      "text/html": [
       "<div>\n",
       "<style scoped>\n",
       "    .dataframe tbody tr th:only-of-type {\n",
       "        vertical-align: middle;\n",
       "    }\n",
       "\n",
       "    .dataframe tbody tr th {\n",
       "        vertical-align: top;\n",
       "    }\n",
       "\n",
       "    .dataframe thead th {\n",
       "        text-align: right;\n",
       "    }\n",
       "</style>\n",
       "<table border=\"1\" class=\"dataframe\">\n",
       "  <thead>\n",
       "    <tr style=\"text-align: right;\">\n",
       "      <th></th>\n",
       "      <th>Name</th>\n",
       "      <th>Rating</th>\n",
       "      <th>Number of Ratings</th>\n",
       "      <th>Price</th>\n",
       "      <th>Region</th>\n",
       "      <th>Winery</th>\n",
       "      <th>Wine style</th>\n",
       "      <th>Alcohol content</th>\n",
       "      <th>Grapes</th>\n",
       "      <th>Food pairings</th>\n",
       "      <th>Bold</th>\n",
       "      <th>Tannin</th>\n",
       "      <th>Sweet</th>\n",
       "      <th>Acidic</th>\n",
       "    </tr>\n",
       "  </thead>\n",
       "  <tbody>\n",
       "    <tr>\n",
       "      <th>1890</th>\n",
       "      <td>Prestige Sauternes 2019</td>\n",
       "      <td>4.4</td>\n",
       "      <td>61</td>\n",
       "      <td>21.99</td>\n",
       "      <td>France</td>\n",
       "      <td>NaN</td>\n",
       "      <td>NaN</td>\n",
       "      <td>13.794543</td>\n",
       "      <td>NaN</td>\n",
       "      <td>[]</td>\n",
       "      <td>61.73</td>\n",
       "      <td>46.29527</td>\n",
       "      <td>9.05</td>\n",
       "      <td>53.555</td>\n",
       "    </tr>\n",
       "    <tr>\n",
       "      <th>3530</th>\n",
       "      <td>The Nest Sauvignon Blanc 2021</td>\n",
       "      <td>4.2</td>\n",
       "      <td>537</td>\n",
       "      <td>20.49</td>\n",
       "      <td>New Zealand</td>\n",
       "      <td>NaN</td>\n",
       "      <td>NaN</td>\n",
       "      <td>13.794543</td>\n",
       "      <td>NaN</td>\n",
       "      <td>[]</td>\n",
       "      <td>61.73</td>\n",
       "      <td>46.29527</td>\n",
       "      <td>9.05</td>\n",
       "      <td>53.555</td>\n",
       "    </tr>\n",
       "    <tr>\n",
       "      <th>3568</th>\n",
       "      <td>Taylors Pass Vineyard Single Vineyard Sauvigno...</td>\n",
       "      <td>4.1</td>\n",
       "      <td>264</td>\n",
       "      <td>26.10</td>\n",
       "      <td>New Zealand</td>\n",
       "      <td>NaN</td>\n",
       "      <td>NaN</td>\n",
       "      <td>13.794543</td>\n",
       "      <td>NaN</td>\n",
       "      <td>[]</td>\n",
       "      <td>61.73</td>\n",
       "      <td>46.29527</td>\n",
       "      <td>9.05</td>\n",
       "      <td>53.555</td>\n",
       "    </tr>\n",
       "  </tbody>\n",
       "</table>\n",
       "</div>"
      ],
      "text/plain": [
       "                                                   Name  Rating  \\\n",
       "1890                            Prestige Sauternes 2019     4.4   \n",
       "3530                      The Nest Sauvignon Blanc 2021     4.2   \n",
       "3568  Taylors Pass Vineyard Single Vineyard Sauvigno...     4.1   \n",
       "\n",
       "      Number of Ratings  Price       Region Winery Wine style  \\\n",
       "1890                 61  21.99       France    NaN        NaN   \n",
       "3530                537  20.49  New Zealand    NaN        NaN   \n",
       "3568                264  26.10  New Zealand    NaN        NaN   \n",
       "\n",
       "      Alcohol content Grapes Food pairings   Bold    Tannin  Sweet  Acidic  \n",
       "1890        13.794543    NaN            []  61.73  46.29527   9.05  53.555  \n",
       "3530        13.794543    NaN            []  61.73  46.29527   9.05  53.555  \n",
       "3568        13.794543    NaN            []  61.73  46.29527   9.05  53.555  "
      ]
     },
     "execution_count": 38,
     "metadata": {},
     "output_type": "execute_result"
    }
   ],
   "source": [
    "wine_df[wine_df['Winery'].isna()]"
   ]
  },
  {
   "cell_type": "code",
   "execution_count": 39,
   "id": "9dcb24b5",
   "metadata": {},
   "outputs": [],
   "source": [
    "wine_df=wine_df.dropna(subset=['Winery'])"
   ]
  },
  {
   "cell_type": "markdown",
   "id": "6f272da8",
   "metadata": {},
   "source": [
    "#### since we had only 3 null values for \"Winery\" we removed only those 3 rows from the data set"
   ]
  },
  {
   "cell_type": "code",
   "execution_count": 40,
   "id": "2d83b0d7-983c-402d-91d6-4fa4917ca456",
   "metadata": {},
   "outputs": [],
   "source": [
    "wine_df[\"Grapes\"] = wine_df[\"Grapes\"].fillna(\"Unknown\")\n",
    "wine_df[\"Wine style\"] = wine_df[\"Wine style\"].fillna(\"Unknown\")\n"
   ]
  },
  {
   "cell_type": "markdown",
   "id": "417f3f86",
   "metadata": {},
   "source": [
    "##### since Wine style (513) and Grapes (2138) contain large amounts of null values we have filled them as \"Unknown\""
   ]
  },
  {
   "cell_type": "code",
   "execution_count": 41,
   "id": "26b50b33-dd18-4b07-b68f-5f73b0dd8d9f",
   "metadata": {},
   "outputs": [
    {
     "name": "stdout",
     "output_type": "stream",
     "text": [
      "null vales after filling them with unknown:Name                 0\n",
      "Rating               0\n",
      "Number of Ratings    0\n",
      "Price                0\n",
      "Region               0\n",
      "Winery               0\n",
      "Wine style           0\n",
      "Alcohol content      0\n",
      "Grapes               0\n",
      "Food pairings        0\n",
      "Bold                 0\n",
      "Tannin               0\n",
      "Sweet                0\n",
      "Acidic               0\n",
      "dtype: int64\n"
     ]
    }
   ],
   "source": [
    "print(f'null vales after filling them with unknown:{wine_df.isnull().sum()}')"
   ]
  },
  {
   "cell_type": "markdown",
   "id": "fd70f19c",
   "metadata": {},
   "source": [
    "## Removing outliers"
   ]
  },
  {
   "cell_type": "code",
   "execution_count": 42,
   "id": "ea50b6b3",
   "metadata": {},
   "outputs": [],
   "source": [
    "numeric_cols = ['Price', 'Rating', 'Number of Ratings', 'Alcohol content', 'Bold', 'Tannin', 'Sweet', 'Acidic']\n",
    "\n",
    "# Keep filtering until no more outliers are removed\n",
    "count = 0\n",
    "while count<1:\n",
    "    \n",
    "    \n",
    "    for col in numeric_cols:\n",
    "        Q1 = wine_df[col].quantile(0.25)\n",
    "        Q3 = wine_df[col].quantile(0.75)\n",
    "        IQR = Q3 - Q1\n",
    "        lower = Q1 - 1.5 * IQR\n",
    "        upper = Q3 + 1.5 * IQR\n",
    "\n",
    "        # Filter for the current column\n",
    "        wine_df = wine_df[(wine_df[col] > lower) & (wine_df[col] < upper)]\n",
    "\n",
    "    # Break when no more rows are being removed\n",
    "    count = count + 1\n"
   ]
  },
  {
   "cell_type": "code",
   "execution_count": 43,
   "id": "bb93c7c4",
   "metadata": {},
   "outputs": [
    {
     "data": {
      "text/plain": [
       "(2134, 14)"
      ]
     },
     "execution_count": 43,
     "metadata": {},
     "output_type": "execute_result"
    }
   ],
   "source": [
    "wine_df.shape"
   ]
  },
  {
   "cell_type": "code",
   "execution_count": 44,
   "id": "5042e5cc",
   "metadata": {},
   "outputs": [
    {
     "data": {
      "text/plain": [
       "{'whiskers': [<matplotlib.lines.Line2D at 0x14bd080b830>,\n",
       "  <matplotlib.lines.Line2D at 0x14bd080bad0>],\n",
       " 'caps': [<matplotlib.lines.Line2D at 0x14bd080bda0>,\n",
       "  <matplotlib.lines.Line2D at 0x14bd08fc080>],\n",
       " 'boxes': [<matplotlib.lines.Line2D at 0x14bcb18a930>],\n",
       " 'medians': [<matplotlib.lines.Line2D at 0x14bd08fc260>],\n",
       " 'fliers': [<matplotlib.lines.Line2D at 0x14bd08fc530>],\n",
       " 'means': []}"
      ]
     },
     "execution_count": 44,
     "metadata": {},
     "output_type": "execute_result"
    },
    {
     "data": {
      "image/png": "[encoded data removed]",
      "text/plain": [
       "<Figure size 640x480 with 1 Axes>"
      ]
     },
     "metadata": {},
     "output_type": "display_data"
    }
   ],
   "source": [
    "plt.boxplot(wine_df['Bold'])"
   ]
  },
  {
   "cell_type": "markdown",
   "id": "2b484416",
   "metadata": {},
   "source": [
    "## Each time we remove outliers, the distribution changes. \n",
    "### This changes:\n",
    "\n",
    "Q1,Q3 and IQR which are The boundaries for what counts as an outlier.\n",
    "\n",
    "First Run:\n",
    "we calculate Q1, Q3, and IQR based on the full dataset (with all outliers).\n",
    "we remove points outside the range [Q1 - 1.5xIQR , Q3 + 1.5xIQR].\n",
    "But some points close to the boundary might still remain because the extreme values affected the Q1 and Q3 estimates.\n",
    "\n",
    "\n",
    "Second Run:\n",
    "Now, Q1 and Q3 are recalculated on the updated (cleaner) dataset.\n",
    "The IQR is often smaller now, which tightens the range, and new outliers are revealed.\n",
    "\n",
    "Third Run:\n",
    "With fewer (or no) extreme values left, Q1 and Q3 stabilize.\n",
    "The final filter may remove a few remaining edge cases, and eventually, no more outliers are detected.\n",
    "\n",
    "note that we have used a while loop that automatically runs until no more outliers remain but we have set it to run once only because as it runs we get fewer and fewer data remaining in the data set. so although the extreme outliers were removed we still get outliers in the data set beacause of the above mentioned condition. \n",
    "\n",
    " In conclusion,the final dataset might still have values that are technically outliers under a stricter definition, but we have managed to removed the most extreme ones while preserving the core distribution.\n",
    "\n"
   ]
  },
  {
   "cell_type": "markdown",
   "id": "6a979b8c",
   "metadata": {},
   "source": [
    "### Adding new columns to the Dataframe "
   ]
  },
  {
   "cell_type": "code",
   "execution_count": 45,
   "id": "4ba19521-9a5d-4f44-ba91-3ea14cb1090a",
   "metadata": {},
   "outputs": [],
   "source": [
    "wine_df[[\"Country\",\"Country_region\",\"other\"]]=wine_df[\"Region\"].str.split(\"/\",n=2,expand=True)"
   ]
  }
 ],
 "metadata": {
  "kernelspec": {
   "display_name": "base",
   "language": "python",
   "name": "python3"
  },
  "language_info": {
   "codemirror_mode": {
    "name": "ipython",
    "version": 3
   },
   "file_extension": ".py",
   "mimetype": "text/x-python",
   "name": "python",
   "nbconvert_exporter": "python",
   "pygments_lexer": "ipython3",
   "version": "3.12.7"
  }
 },
 "nbformat": 4,
 "nbformat_minor": 5
}
