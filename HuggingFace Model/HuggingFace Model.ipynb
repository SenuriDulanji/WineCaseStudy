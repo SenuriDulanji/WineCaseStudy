{
 "cells": [
  {
   "cell_type": "code",
   "execution_count": 22,
   "id": "0932b030",
   "metadata": {},
   "outputs": [
    {
     "name": "stdout",
     "output_type": "stream",
     "text": [
      "Requirement already satisfied: pandas in c:\\users\\hp\\desktop\\winecasestudy\\huggingface model\\.venv\\lib\\site-packages (2.2.3)\n",
      "Requirement already satisfied: matplotlib in c:\\users\\hp\\desktop\\winecasestudy\\huggingface model\\.venv\\lib\\site-packages (3.10.1)\n",
      "Requirement already satisfied: seaborn in c:\\users\\hp\\desktop\\winecasestudy\\huggingface model\\.venv\\lib\\site-packages (0.13.2)\n",
      "Requirement already satisfied: numpy>=1.26.0 in c:\\users\\hp\\desktop\\winecasestudy\\huggingface model\\.venv\\lib\\site-packages (from pandas) (2.2.5)\n",
      "Requirement already satisfied: python-dateutil>=2.8.2 in c:\\users\\hp\\desktop\\winecasestudy\\huggingface model\\.venv\\lib\\site-packages (from pandas) (2.9.0.post0)\n",
      "Requirement already satisfied: pytz>=2020.1 in c:\\users\\hp\\desktop\\winecasestudy\\huggingface model\\.venv\\lib\\site-packages (from pandas) (2025.2)\n",
      "Requirement already satisfied: tzdata>=2022.7 in c:\\users\\hp\\desktop\\winecasestudy\\huggingface model\\.venv\\lib\\site-packages (from pandas) (2025.2)\n",
      "Requirement already satisfied: contourpy>=1.0.1 in c:\\users\\hp\\desktop\\winecasestudy\\huggingface model\\.venv\\lib\\site-packages (from matplotlib) (1.3.2)\n",
      "Requirement already satisfied: cycler>=0.10 in c:\\users\\hp\\desktop\\winecasestudy\\huggingface model\\.venv\\lib\\site-packages (from matplotlib) (0.12.1)\n",
      "Requirement already satisfied: fonttools>=4.22.0 in c:\\users\\hp\\desktop\\winecasestudy\\huggingface model\\.venv\\lib\\site-packages (from matplotlib) (4.57.0)\n",
      "Requirement already satisfied: kiwisolver>=1.3.1 in c:\\users\\hp\\desktop\\winecasestudy\\huggingface model\\.venv\\lib\\site-packages (from matplotlib) (1.4.8)\n",
      "Requirement already satisfied: packaging>=20.0 in c:\\users\\hp\\desktop\\winecasestudy\\huggingface model\\.venv\\lib\\site-packages (from matplotlib) (25.0)\n",
      "Requirement already satisfied: pillow>=8 in c:\\users\\hp\\desktop\\winecasestudy\\huggingface model\\.venv\\lib\\site-packages (from matplotlib) (11.2.1)\n",
      "Requirement already satisfied: pyparsing>=2.3.1 in c:\\users\\hp\\desktop\\winecasestudy\\huggingface model\\.venv\\lib\\site-packages (from matplotlib) (3.2.3)\n",
      "Requirement already satisfied: six>=1.5 in c:\\users\\hp\\desktop\\winecasestudy\\huggingface model\\.venv\\lib\\site-packages (from python-dateutil>=2.8.2->pandas) (1.17.0)\n",
      "Note: you may need to restart the kernel to use updated packages.\n"
     ]
    },
    {
     "name": "stderr",
     "output_type": "stream",
     "text": [
      "\n",
      "[notice] A new release of pip is available: 25.0.1 -> 25.1\n",
      "[notice] To update, run: python.exe -m pip install --upgrade pip\n"
     ]
    }
   ],
   "source": [
    "%pip install pandas matplotlib seaborn"
   ]
  },
  {
   "cell_type": "code",
   "execution_count": 23,
   "id": "8d5262a0",
   "metadata": {},
   "outputs": [
    {
     "name": "stdout",
     "output_type": "stream",
     "text": [
      "Requirement already satisfied: transformers in c:\\users\\hp\\desktop\\winecasestudy\\huggingface model\\.venv\\lib\\site-packages (4.51.3)\n",
      "Requirement already satisfied: filelock in c:\\users\\hp\\desktop\\winecasestudy\\huggingface model\\.venv\\lib\\site-packages (from transformers) (3.18.0)\n",
      "Requirement already satisfied: huggingface-hub<1.0,>=0.30.0 in c:\\users\\hp\\desktop\\winecasestudy\\huggingface model\\.venv\\lib\\site-packages (from transformers) (0.30.2)\n",
      "Requirement already satisfied: numpy>=1.17 in c:\\users\\hp\\desktop\\winecasestudy\\huggingface model\\.venv\\lib\\site-packages (from transformers) (2.2.5)\n",
      "Requirement already satisfied: packaging>=20.0 in c:\\users\\hp\\desktop\\winecasestudy\\huggingface model\\.venv\\lib\\site-packages (from transformers) (25.0)\n",
      "Requirement already satisfied: pyyaml>=5.1 in c:\\users\\hp\\desktop\\winecasestudy\\huggingface model\\.venv\\lib\\site-packages (from transformers) (6.0.2)\n",
      "Requirement already satisfied: regex!=2019.12.17 in c:\\users\\hp\\desktop\\winecasestudy\\huggingface model\\.venv\\lib\\site-packages (from transformers) (2024.11.6)\n",
      "Requirement already satisfied: requests in c:\\users\\hp\\desktop\\winecasestudy\\huggingface model\\.venv\\lib\\site-packages (from transformers) (2.32.3)\n",
      "Requirement already satisfied: tokenizers<0.22,>=0.21 in c:\\users\\hp\\desktop\\winecasestudy\\huggingface model\\.venv\\lib\\site-packages (from transformers) (0.21.1)\n",
      "Requirement already satisfied: safetensors>=0.4.3 in c:\\users\\hp\\desktop\\winecasestudy\\huggingface model\\.venv\\lib\\site-packages (from transformers) (0.5.3)\n",
      "Requirement already satisfied: tqdm>=4.27 in c:\\users\\hp\\desktop\\winecasestudy\\huggingface model\\.venv\\lib\\site-packages (from transformers) (4.67.1)\n",
      "Requirement already satisfied: fsspec>=2023.5.0 in c:\\users\\hp\\desktop\\winecasestudy\\huggingface model\\.venv\\lib\\site-packages (from huggingface-hub<1.0,>=0.30.0->transformers) (2025.3.2)\n",
      "Requirement already satisfied: typing-extensions>=3.7.4.3 in c:\\users\\hp\\desktop\\winecasestudy\\huggingface model\\.venv\\lib\\site-packages (from huggingface-hub<1.0,>=0.30.0->transformers) (4.13.2)\n",
      "Requirement already satisfied: colorama in c:\\users\\hp\\desktop\\winecasestudy\\huggingface model\\.venv\\lib\\site-packages (from tqdm>=4.27->transformers) (0.4.6)\n",
      "Requirement already satisfied: charset-normalizer<4,>=2 in c:\\users\\hp\\desktop\\winecasestudy\\huggingface model\\.venv\\lib\\site-packages (from requests->transformers) (3.4.1)\n",
      "Requirement already satisfied: idna<4,>=2.5 in c:\\users\\hp\\desktop\\winecasestudy\\huggingface model\\.venv\\lib\\site-packages (from requests->transformers) (3.10)\n",
      "Requirement already satisfied: urllib3<3,>=1.21.1 in c:\\users\\hp\\desktop\\winecasestudy\\huggingface model\\.venv\\lib\\site-packages (from requests->transformers) (2.4.0)\n",
      "Requirement already satisfied: certifi>=2017.4.17 in c:\\users\\hp\\desktop\\winecasestudy\\huggingface model\\.venv\\lib\\site-packages (from requests->transformers) (2025.1.31)\n",
      "Note: you may need to restart the kernel to use updated packages.\n"
     ]
    },
    {
     "name": "stderr",
     "output_type": "stream",
     "text": [
      "\n",
      "[notice] A new release of pip is available: 25.0.1 -> 25.1\n",
      "[notice] To update, run: python.exe -m pip install --upgrade pip\n"
     ]
    }
   ],
   "source": [
    "%pip install transformers"
   ]
  },
  {
   "cell_type": "code",
   "execution_count": 24,
   "id": "8c8c3264",
   "metadata": {},
   "outputs": [
    {
     "name": "stderr",
     "output_type": "stream",
     "text": [
      "[nltk_data] Downloading package stopwords to\n",
      "[nltk_data]     C:\\Users\\HP\\AppData\\Roaming\\nltk_data...\n",
      "[nltk_data]   Package stopwords is already up-to-date!\n"
     ]
    }
   ],
   "source": [
    "import pandas as pd\n",
    "import matplotlib.pyplot as plt\n",
    "import seaborn as sns\n",
    "import re\n",
    "from transformers import pipeline\n",
    "from tqdm import tqdm\n",
    "import nltk\n",
    "from nltk.corpus import stopwords\n",
    "\n",
    "nltk.download('stopwords')  # Download stop words set once\n",
    "stop_words = set(stopwords.words('english'))  # Create set of stop words\n"
   ]
  },
  {
   "cell_type": "code",
   "execution_count": 25,
   "id": "5ceeb101",
   "metadata": {},
   "outputs": [
    {
     "data": {
      "text/html": [
       "<div>\n",
       "<style scoped>\n",
       "    .dataframe tbody tr th:only-of-type {\n",
       "        vertical-align: middle;\n",
       "    }\n",
       "\n",
       "    .dataframe tbody tr th {\n",
       "        vertical-align: top;\n",
       "    }\n",
       "\n",
       "    .dataframe thead th {\n",
       "        text-align: right;\n",
       "    }\n",
       "</style>\n",
       "<table border=\"1\" class=\"dataframe\">\n",
       "  <thead>\n",
       "    <tr style=\"text-align: right;\">\n",
       "      <th></th>\n",
       "      <th>review</th>\n",
       "    </tr>\n",
       "  </thead>\n",
       "  <tbody>\n",
       "    <tr>\n",
       "      <th>0</th>\n",
       "      <td>Easily the best Sauvignon Blanc I've had to da...</td>\n",
       "    </tr>\n",
       "    <tr>\n",
       "      <th>1</th>\n",
       "      <td>Excellent, Mockingbird Inn?\\n</td>\n",
       "    </tr>\n",
       "    <tr>\n",
       "      <th>2</th>\n",
       "      <td>Absolutely incredible. One of the best sauvign...</td>\n",
       "    </tr>\n",
       "    <tr>\n",
       "      <th>3</th>\n",
       "      <td>Reported in nytimes. Did not try</td>\n",
       "    </tr>\n",
       "    <tr>\n",
       "      <th>4</th>\n",
       "      <td>Great. Much different than other Sauv Blancs s...</td>\n",
       "    </tr>\n",
       "  </tbody>\n",
       "</table>\n",
       "</div>"
      ],
      "text/plain": [
       "                                              review\n",
       "0  Easily the best Sauvignon Blanc I've had to da...\n",
       "1                      Excellent, Mockingbird Inn?\\n\n",
       "2  Absolutely incredible. One of the best sauvign...\n",
       "3                   Reported in nytimes. Did not try\n",
       "4  Great. Much different than other Sauv Blancs s..."
      ]
     },
     "execution_count": 25,
     "metadata": {},
     "output_type": "execute_result"
    }
   ],
   "source": [
    "df = pd.read_csv(\"wine_review.csv\")\n",
    "df.head()"
   ]
  },
  {
   "cell_type": "code",
   "execution_count": 26,
   "id": "b2e785f5",
   "metadata": {},
   "outputs": [
    {
     "data": {
      "text/plain": [
       "review    0\n",
       "dtype: int64"
      ]
     },
     "execution_count": 26,
     "metadata": {},
     "output_type": "execute_result"
    }
   ],
   "source": [
    "df.isna().sum() #Check if there are null values"
   ]
  },
  {
   "cell_type": "code",
   "execution_count": 27,
   "id": "4cc986b4",
   "metadata": {},
   "outputs": [],
   "source": [
    "def remove_emojis(text):\n",
    "    emoji_pattern = re.compile(\"[\"\n",
    "                           u\"\\U0001F600-\\U0001F64F\"  # emoticons\n",
    "                           u\"\\U0001F300-\\U0001F5FF\"  # symbols & pictographs\n",
    "                           u\"\\U0001F680-\\U0001F6FF\"  # transport & map symbols\n",
    "                           u\"\\U0001F1E0-\\U0001F1FF\"  # flags (iOS)\n",
    "                           u\"\\U00002702-\\U000027B0\"\n",
    "                           u\"\\U000024C2-\\U0001F251\"\n",
    "                           \"]+\", flags=re.UNICODE)\n",
    "    return emoji_pattern.sub(r'', text)"
   ]
  },
  {
   "cell_type": "code",
   "execution_count": 28,
   "id": "e6c12243",
   "metadata": {},
   "outputs": [],
   "source": [
    "def remove_stop_words(text):\n",
    "    if pd.isna(text):\n",
    "        return \"\"\n",
    "    words = text.split()  # tokenize text into words\n",
    "    filtered_words = [word for word in words if word.lower() not in stop_words]\n",
    "    return ' '.join(filtered_words)"
   ]
  },
  {
   "cell_type": "code",
   "execution_count": 29,
   "id": "ba1a3914",
   "metadata": {},
   "outputs": [],
   "source": [
    "def clean_review(text):\n",
    "    \n",
    "    #Remove URLs\n",
    "    text = re.sub(r\"http\\S+|www\\S+|https\\S+\", '', text, flags=re.MULTILINE)\n",
    "\n",
    "    #Remove weird characters except useful punctuation\n",
    "    text = re.sub(r\"[^a-zA-Z0-9.,'\\\"?!\\s]\", '', text)\n",
    "\n",
    "    #Normalize multiple whitespaces/newlines\n",
    "    text = re.sub(r'\\s+', ' ', text)\n",
    "\n",
    "    text = text.lower()   \n",
    "\n",
    "    text = remove_stop_words(text)\n",
    "\n",
    "    return text.strip()\n",
    "\n",
    "# Apply cleaning\n",
    "df[\"review\"] = df[\"review\"].astype(str).apply(clean_review)"
   ]
  },
  {
   "cell_type": "code",
   "execution_count": 30,
   "id": "218fcf3a",
   "metadata": {},
   "outputs": [
    {
     "data": {
      "text/plain": [
       "0      easily best sauvignon blanc date. beautiful ar...\n",
       "1                            excellent, mockingbird inn?\n",
       "2      absolutely incredible. one best sauvignon blan...\n",
       "3                                  reported nytimes. try\n",
       "4      great. much different sauv blancs since aged o...\n",
       "                             ...                        \n",
       "495    pretty good sauv blanc. crisp acidic would ima...\n",
       "496    outstanding sauv blanc rocked us. full bodied,...\n",
       "497    benchmark sauvignon blanc! perfect condition d...\n",
       "498                                     pear lemon flint\n",
       "499    told merry edwards hated making wine. bad clea...\n",
       "Name: review, Length: 500, dtype: object"
      ]
     },
     "execution_count": 30,
     "metadata": {},
     "output_type": "execute_result"
    }
   ],
   "source": [
    "df[\"review\"]"
   ]
  },
  {
   "cell_type": "code",
   "execution_count": 31,
   "id": "f009e89c",
   "metadata": {},
   "outputs": [
    {
     "name": "stderr",
     "output_type": "stream",
     "text": [
      "Device set to use cpu\n"
     ]
    }
   ],
   "source": [
    "# Initialize zero-shot classification pipeline\n",
    "classifier = pipeline(\"zero-shot-classification\", model=\"facebook/bart-large-mnli\")\n",
    "\n",
    "# Define your custom labels for classification\n",
    "labels = [\n",
    "    \"food combinations\",\n",
    "    \"taste\",\n",
    "    \"value for money\",\n",
    "    \"other\"\n",
    "]\n"
   ]
  },
  {
   "cell_type": "code",
   "execution_count": 32,
   "id": "9d3c4a0d",
   "metadata": {},
   "outputs": [
    {
     "name": "stderr",
     "output_type": "stream",
     "text": [
      "100%|██████████| 50/50 [02:18<00:00,  2.78s/it]\n"
     ]
    }
   ],
   "source": [
    "sample_df = df.sample(50, random_state=42).copy()\n",
    "sample_df['review'] = sample_df['review'].apply(clean_review)\n",
    "\n",
    "tqdm.pandas()\n",
    "\n",
    "sample_df['talks_about'] = sample_df['review'].progress_apply(lambda x: classifier(x, labels)['labels'][0])\n"
   ]
  },
  {
   "cell_type": "code",
   "execution_count": 33,
   "id": "192baf9a",
   "metadata": {},
   "outputs": [
    {
     "data": {
      "text/plain": [
       "361                taste\n",
       "73                 taste\n",
       "374                taste\n",
       "155                taste\n",
       "104      value for money\n",
       "394                taste\n",
       "377                other\n",
       "124                taste\n",
       "68     food combinations\n",
       "450                taste\n",
       "9                  taste\n",
       "194                taste\n",
       "406                taste\n",
       "84                 taste\n",
       "371                taste\n",
       "388                taste\n",
       "495                taste\n",
       "30                 taste\n",
       "316    food combinations\n",
       "408                taste\n",
       "490    food combinations\n",
       "491                taste\n",
       "280                other\n",
       "356                taste\n",
       "76     food combinations\n",
       "461    food combinations\n",
       "497      value for money\n",
       "211                taste\n",
       "101                taste\n",
       "334                taste\n",
       "475                taste\n",
       "336                taste\n",
       "440    food combinations\n",
       "173                taste\n",
       "2                  taste\n",
       "333                other\n",
       "409                taste\n",
       "70                 taste\n",
       "209    food combinations\n",
       "63                 taste\n",
       "384                other\n",
       "93                 taste\n",
       "485                taste\n",
       "185    food combinations\n",
       "33                 taste\n",
       "77                 taste\n",
       "0        value for money\n",
       "11                 other\n",
       "415                taste\n",
       "22                 taste\n",
       "Name: talks_about, dtype: object"
      ]
     },
     "execution_count": 33,
     "metadata": {},
     "output_type": "execute_result"
    }
   ],
   "source": [
    "sample_df[\"talks_about\"]"
   ]
  },
  {
   "cell_type": "code",
   "execution_count": 34,
   "id": "0589006f",
   "metadata": {},
   "outputs": [
    {
     "data": {
      "text/html": [
       "<div>\n",
       "<style scoped>\n",
       "    .dataframe tbody tr th:only-of-type {\n",
       "        vertical-align: middle;\n",
       "    }\n",
       "\n",
       "    .dataframe tbody tr th {\n",
       "        vertical-align: top;\n",
       "    }\n",
       "\n",
       "    .dataframe thead th {\n",
       "        text-align: right;\n",
       "    }\n",
       "</style>\n",
       "<table border=\"1\" class=\"dataframe\">\n",
       "  <thead>\n",
       "    <tr style=\"text-align: right;\">\n",
       "      <th></th>\n",
       "      <th>review</th>\n",
       "      <th>talks_about</th>\n",
       "    </tr>\n",
       "  </thead>\n",
       "  <tbody>\n",
       "    <tr>\n",
       "      <th>361</th>\n",
       "      <td>beautiful sav blanc. distinguished palate</td>\n",
       "      <td>taste</td>\n",
       "    </tr>\n",
       "    <tr>\n",
       "      <th>73</th>\n",
       "      <td>color light yellow viscosity high aromas mango...</td>\n",
       "      <td>taste</td>\n",
       "    </tr>\n",
       "    <tr>\n",
       "      <th>374</th>\n",
       "      <td>drinking amazing right now. wow!</td>\n",
       "      <td>taste</td>\n",
       "    </tr>\n",
       "    <tr>\n",
       "      <th>155</th>\n",
       "      <td>pineapples creamy.</td>\n",
       "      <td>taste</td>\n",
       "    </tr>\n",
       "    <tr>\n",
       "      <th>104</th>\n",
       "      <td>clean, pure, balanced. wellintegrated fruit. c...</td>\n",
       "      <td>value for money</td>\n",
       "    </tr>\n",
       "    <tr>\n",
       "      <th>394</th>\n",
       "      <td>big round, tropical fruits, melon, pear, super...</td>\n",
       "      <td>taste</td>\n",
       "    </tr>\n",
       "    <tr>\n",
       "      <th>377</th>\n",
       "      <td>ins great! quite different.</td>\n",
       "      <td>other</td>\n",
       "    </tr>\n",
       "    <tr>\n",
       "      <th>124</th>\n",
       "      <td>absolutely amazing burst citrus notes honey, a...</td>\n",
       "      <td>taste</td>\n",
       "    </tr>\n",
       "    <tr>\n",
       "      <th>68</th>\n",
       "      <td>citrus oak pear peach melon cream butter lemon...</td>\n",
       "      <td>food combinations</td>\n",
       "    </tr>\n",
       "    <tr>\n",
       "      <th>450</th>\n",
       "      <td>aromas rich peachy fruits floral notes. creamy...</td>\n",
       "      <td>taste</td>\n",
       "    </tr>\n",
       "    <tr>\n",
       "      <th>9</th>\n",
       "      <td>think first cali sauvignon blanc. fruity, hone...</td>\n",
       "      <td>taste</td>\n",
       "    </tr>\n",
       "    <tr>\n",
       "      <th>194</th>\n",
       "      <td>pear green apple zest</td>\n",
       "      <td>taste</td>\n",
       "    </tr>\n",
       "    <tr>\n",
       "      <th>406</th>\n",
       "      <td>really something. favourite california white t...</td>\n",
       "      <td>taste</td>\n",
       "    </tr>\n",
       "    <tr>\n",
       "      <th>84</th>\n",
       "      <td>wonderful peach full, sweet sauv b</td>\n",
       "      <td>taste</td>\n",
       "    </tr>\n",
       "    <tr>\n",
       "      <th>371</th>\n",
       "      <td>aromas stone fruit, tangerine. smooth drinkabl...</td>\n",
       "      <td>taste</td>\n",
       "    </tr>\n",
       "    <tr>\n",
       "      <th>388</th>\n",
       "      <td>rivals love marlborough nz sauvignon blanc. no...</td>\n",
       "      <td>taste</td>\n",
       "    </tr>\n",
       "    <tr>\n",
       "      <th>495</th>\n",
       "      <td>pretty good sauv blanc. crisp acidic would ima...</td>\n",
       "      <td>taste</td>\n",
       "    </tr>\n",
       "    <tr>\n",
       "      <th>30</th>\n",
       "      <td>crisp, hint minerality cream flavor citrus, pe...</td>\n",
       "      <td>taste</td>\n",
       "    </tr>\n",
       "    <tr>\n",
       "      <th>316</th>\n",
       "      <td>happy international sauvignon blanc day!!fruit...</td>\n",
       "      <td>food combinations</td>\n",
       "    </tr>\n",
       "    <tr>\n",
       "      <th>408</th>\n",
       "      <td>lovely. french laundry tasting menu</td>\n",
       "      <td>taste</td>\n",
       "    </tr>\n",
       "  </tbody>\n",
       "</table>\n",
       "</div>"
      ],
      "text/plain": [
       "                                                review        talks_about\n",
       "361          beautiful sav blanc. distinguished palate              taste\n",
       "73   color light yellow viscosity high aromas mango...              taste\n",
       "374                   drinking amazing right now. wow!              taste\n",
       "155                                 pineapples creamy.              taste\n",
       "104  clean, pure, balanced. wellintegrated fruit. c...    value for money\n",
       "394  big round, tropical fruits, melon, pear, super...              taste\n",
       "377                        ins great! quite different.              other\n",
       "124  absolutely amazing burst citrus notes honey, a...              taste\n",
       "68   citrus oak pear peach melon cream butter lemon...  food combinations\n",
       "450  aromas rich peachy fruits floral notes. creamy...              taste\n",
       "9    think first cali sauvignon blanc. fruity, hone...              taste\n",
       "194                              pear green apple zest              taste\n",
       "406  really something. favourite california white t...              taste\n",
       "84                  wonderful peach full, sweet sauv b              taste\n",
       "371  aromas stone fruit, tangerine. smooth drinkabl...              taste\n",
       "388  rivals love marlborough nz sauvignon blanc. no...              taste\n",
       "495  pretty good sauv blanc. crisp acidic would ima...              taste\n",
       "30   crisp, hint minerality cream flavor citrus, pe...              taste\n",
       "316  happy international sauvignon blanc day!!fruit...  food combinations\n",
       "408                lovely. french laundry tasting menu              taste"
      ]
     },
     "execution_count": 34,
     "metadata": {},
     "output_type": "execute_result"
    }
   ],
   "source": [
    "sample_df.head(20)"
   ]
  },
  {
   "cell_type": "code",
   "execution_count": 35,
   "id": "897bc183",
   "metadata": {},
   "outputs": [
    {
     "name": "stderr",
     "output_type": "stream",
     "text": [
      "100%|██████████| 500/500 [23:32<00:00,  2.82s/it]\n"
     ]
    }
   ],
   "source": [
    "# Add progress bar for visibility using tqdm\n",
    "tqdm.pandas()\n",
    "\n",
    "# Apply the function to the DataFrame\n",
    "df[\"talks_about\"] = df[\"review\"].progress_apply(lambda x: classifier(x, labels)['labels'][0])\n"
   ]
  },
  {
   "cell_type": "code",
   "execution_count": 36,
   "id": "a0aefe02",
   "metadata": {},
   "outputs": [
    {
     "data": {
      "text/html": [
       "<div>\n",
       "<style scoped>\n",
       "    .dataframe tbody tr th:only-of-type {\n",
       "        vertical-align: middle;\n",
       "    }\n",
       "\n",
       "    .dataframe tbody tr th {\n",
       "        vertical-align: top;\n",
       "    }\n",
       "\n",
       "    .dataframe thead th {\n",
       "        text-align: right;\n",
       "    }\n",
       "</style>\n",
       "<table border=\"1\" class=\"dataframe\">\n",
       "  <thead>\n",
       "    <tr style=\"text-align: right;\">\n",
       "      <th></th>\n",
       "      <th>review</th>\n",
       "      <th>talks_about</th>\n",
       "    </tr>\n",
       "  </thead>\n",
       "  <tbody>\n",
       "    <tr>\n",
       "      <th>0</th>\n",
       "      <td>easily best sauvignon blanc date. beautiful ar...</td>\n",
       "      <td>value for money</td>\n",
       "    </tr>\n",
       "    <tr>\n",
       "      <th>1</th>\n",
       "      <td>excellent, mockingbird inn?</td>\n",
       "      <td>value for money</td>\n",
       "    </tr>\n",
       "    <tr>\n",
       "      <th>2</th>\n",
       "      <td>absolutely incredible. one best sauvignon blan...</td>\n",
       "      <td>taste</td>\n",
       "    </tr>\n",
       "    <tr>\n",
       "      <th>3</th>\n",
       "      <td>reported nytimes. try</td>\n",
       "      <td>other</td>\n",
       "    </tr>\n",
       "    <tr>\n",
       "      <th>4</th>\n",
       "      <td>great. much different sauv blancs since aged o...</td>\n",
       "      <td>other</td>\n",
       "    </tr>\n",
       "    <tr>\n",
       "      <th>5</th>\n",
       "      <td>nice, balanced, svb. enough apple citrus, ligh...</td>\n",
       "      <td>taste</td>\n",
       "    </tr>\n",
       "    <tr>\n",
       "      <th>6</th>\n",
       "      <td>oak stone first, followed little peach. finish...</td>\n",
       "      <td>value for money</td>\n",
       "    </tr>\n",
       "    <tr>\n",
       "      <th>7</th>\n",
       "      <td>stunning, delicious, sophisticated, incomparab...</td>\n",
       "      <td>taste</td>\n",
       "    </tr>\n",
       "    <tr>\n",
       "      <th>8</th>\n",
       "      <td>fantastic expression napa sav blanc. incredibl...</td>\n",
       "      <td>taste</td>\n",
       "    </tr>\n",
       "    <tr>\n",
       "      <th>9</th>\n",
       "      <td>think first cali sauvignon blanc. fruity, hone...</td>\n",
       "      <td>taste</td>\n",
       "    </tr>\n",
       "    <tr>\n",
       "      <th>10</th>\n",
       "      <td>one best sauv blancs made.. accolades.. smooth...</td>\n",
       "      <td>taste</td>\n",
       "    </tr>\n",
       "    <tr>\n",
       "      <th>11</th>\n",
       "      <td>another bottle another great dinner soft shell...</td>\n",
       "      <td>other</td>\n",
       "    </tr>\n",
       "    <tr>\n",
       "      <th>12</th>\n",
       "      <td>clean pear front beautiful subtle butter spicy...</td>\n",
       "      <td>taste</td>\n",
       "    </tr>\n",
       "    <tr>\n",
       "      <th>13</th>\n",
       "      <td>smooth slightly sweet pear, apple, mango notes...</td>\n",
       "      <td>food combinations</td>\n",
       "    </tr>\n",
       "    <tr>\n",
       "      <th>14</th>\n",
       "      <td>honey, pear grilled pineapple nose. earthy pal...</td>\n",
       "      <td>taste</td>\n",
       "    </tr>\n",
       "    <tr>\n",
       "      <th>15</th>\n",
       "      <td>one better sauvignon blancs ive tasted. pear a...</td>\n",
       "      <td>taste</td>\n",
       "    </tr>\n",
       "    <tr>\n",
       "      <th>16</th>\n",
       "      <td>dry, high acidity, high alcohol, medium bodied...</td>\n",
       "      <td>value for money</td>\n",
       "    </tr>\n",
       "    <tr>\n",
       "      <th>17</th>\n",
       "      <td>crisp tart flavors upfront nice sweet pear fin...</td>\n",
       "      <td>taste</td>\n",
       "    </tr>\n",
       "    <tr>\n",
       "      <th>18</th>\n",
       "      <td>dry. fruit forward bad linger palate. bought b...</td>\n",
       "      <td>taste</td>\n",
       "    </tr>\n",
       "    <tr>\n",
       "      <th>19</th>\n",
       "      <td>love wine. medium full bodied, low sweetness, ...</td>\n",
       "      <td>taste</td>\n",
       "    </tr>\n",
       "  </tbody>\n",
       "</table>\n",
       "</div>"
      ],
      "text/plain": [
       "                                               review        talks_about\n",
       "0   easily best sauvignon blanc date. beautiful ar...    value for money\n",
       "1                         excellent, mockingbird inn?    value for money\n",
       "2   absolutely incredible. one best sauvignon blan...              taste\n",
       "3                               reported nytimes. try              other\n",
       "4   great. much different sauv blancs since aged o...              other\n",
       "5   nice, balanced, svb. enough apple citrus, ligh...              taste\n",
       "6   oak stone first, followed little peach. finish...    value for money\n",
       "7   stunning, delicious, sophisticated, incomparab...              taste\n",
       "8   fantastic expression napa sav blanc. incredibl...              taste\n",
       "9   think first cali sauvignon blanc. fruity, hone...              taste\n",
       "10  one best sauv blancs made.. accolades.. smooth...              taste\n",
       "11  another bottle another great dinner soft shell...              other\n",
       "12  clean pear front beautiful subtle butter spicy...              taste\n",
       "13  smooth slightly sweet pear, apple, mango notes...  food combinations\n",
       "14  honey, pear grilled pineapple nose. earthy pal...              taste\n",
       "15  one better sauvignon blancs ive tasted. pear a...              taste\n",
       "16  dry, high acidity, high alcohol, medium bodied...    value for money\n",
       "17  crisp tart flavors upfront nice sweet pear fin...              taste\n",
       "18  dry. fruit forward bad linger palate. bought b...              taste\n",
       "19  love wine. medium full bodied, low sweetness, ...              taste"
      ]
     },
     "execution_count": 36,
     "metadata": {},
     "output_type": "execute_result"
    }
   ],
   "source": [
    "df.head(20)"
   ]
  },
  {
   "cell_type": "code",
   "execution_count": 38,
   "id": "3d3de5d3",
   "metadata": {},
   "outputs": [
    {
     "data": {
      "image/png": "[encoded data removed]",
      "text/plain": [
       "<Figure size 1000x600 with 1 Axes>"
      ]
     },
     "metadata": {},
     "output_type": "display_data"
    }
   ],
   "source": [
    "# Plot\n",
    "plt.figure(figsize=(10,6))\n",
    "sns.countplot(data=df, x='talks_about', order=df['talks_about'].value_counts().index)\n",
    "plt.title('Distribution of Categories')\n",
    "plt.xlabel('Category')\n",
    "plt.ylabel('Count')\n",
    "plt.xticks(rotation=45)\n",
    "plt.tight_layout()\n",
    "plt.show()"
   ]
  },
  {
   "cell_type": "code",
   "execution_count": 42,
   "id": "2660df7e",
   "metadata": {},
   "outputs": [],
   "source": [
    "import os\n",
    "os.makedirs(\"Outputs\", exist_ok=True)  # Create folder if it doesn't exist\n",
    "df.to_csv(os.path.join(\"Outputs\", \"Updated Wine Reviews.csv\"), index=False)\n"
   ]
  }
 ],
 "metadata": {
  "kernelspec": {
   "display_name": ".venv",
   "language": "python",
   "name": "python3"
  },
  "language_info": {
   "codemirror_mode": {
    "name": "ipython",
    "version": 3
   },
   "file_extension": ".py",
   "mimetype": "text/x-python",
   "name": "python",
   "nbconvert_exporter": "python",
   "pygments_lexer": "ipython3",
   "version": "3.13.1"
  }
 },
 "nbformat": 4,
 "nbformat_minor": 5
}
